{
 "cells": [
  {
   "cell_type": "code",
   "execution_count": 1,
   "metadata": {
    "colab": {
     "autoexec": {
      "startup": false,
      "wait_interval": 0
     }
    },
    "colab_type": "code",
    "id": "h31EDrL8UabE"
   },
   "outputs": [
    {
     "name": "stderr",
     "output_type": "stream",
     "text": [
      "Using TensorFlow backend.\n"
     ]
    }
   ],
   "source": [
    "import pandas as pd\n",
    "import numpy as np \n",
    "from keras.layers import LSTM , Dense\n",
    "from keras.models import Sequential\n",
    "from sklearn.preprocessing import MinMaxScaler\n",
    "from sklearn.metrics import mean_squared_error\n",
    "import math"
   ]
  },
  {
   "cell_type": "code",
   "execution_count": 2,
   "metadata": {
    "colab": {
     "autoexec": {
      "startup": false,
      "wait_interval": 0
     }
    },
    "colab_type": "code",
    "id": "8Fx__XDdRSQ0"
   },
   "outputs": [],
   "source": [
    "df = pd.read_csv('FinalDataRL.csv')"
   ]
  },
  {
   "cell_type": "code",
   "execution_count": 3,
   "metadata": {
    "colab": {
     "autoexec": {
      "startup": false,
      "wait_interval": 0
     }
    },
    "colab_type": "code",
    "id": "QWgJb1M5WbUp"
   },
   "outputs": [],
   "source": [
    "df['ExpirationTime'] = pd.to_datetime('2018-04-26 15:29:00')"
   ]
  },
  {
   "cell_type": "code",
   "execution_count": 4,
   "metadata": {},
   "outputs": [],
   "source": [
    "df['ExpirationTime'] = df['ExpirationTime'] - pd.to_datetime(df['DateTime'])"
   ]
  },
  {
   "cell_type": "code",
   "execution_count": 5,
   "metadata": {},
   "outputs": [],
   "source": [
    "import datetime\n",
    "df['ExpirationTime'] = df['ExpirationTime'].apply(lambda x : x.total_seconds()/60.0)"
   ]
  },
  {
   "cell_type": "code",
   "execution_count": 6,
   "metadata": {},
   "outputs": [],
   "source": [
    "#Buy: 0 ,Not hold : 1 , Hold: 2 , Sell: 3 \n",
    "for index,row in df.iterrows():\n",
    "    if row['Action'] == -1:\n",
    "        #print(row['Action'])\n",
    "        df.set_value(index , 'Action' , 1)\n",
    "    elif row['Action'] == 0:\n",
    "        #print(row['Action'])\n",
    "        df.set_value(index , 'Action' , 2)\n",
    "    elif row['Action'] == 1:\n",
    "        #print(row['Action'])\n",
    "        df.set_value(index , 'Action' , 3)\n",
    "    elif row['Action'] == 2:\n",
    "        #print(row['Action'])\n",
    "        df.set_value(index , 'Action' , 0)"
   ]
  },
  {
   "cell_type": "code",
   "execution_count": 7,
   "metadata": {},
   "outputs": [],
   "source": [
    "#df[df['Action'] == -1] = 0 #0===> 1 (Hold) , -1 ===> 0 (#not holding), 1 ====> 2 (Sell) , 2 ===> 3 (Buy) "
   ]
  },
  {
   "cell_type": "code",
   "execution_count": 8,
   "metadata": {},
   "outputs": [],
   "source": [
    "strikePrice = 10000\n",
    "df['Open_Nifty'] = df['Open_Nifty']/strikePrice\n",
    "df['High_Nifty'] = df['High_Nifty']/strikePrice\n",
    "df['Low_Nifty'] = df['Low_Nifty']/strikePrice\n",
    "df['Close_Nifty'] = df['Close_Nifty']/strikePrice"
   ]
  },
  {
   "cell_type": "code",
   "execution_count": 9,
   "metadata": {},
   "outputs": [],
   "source": [
    "data1 = df[['Open_Nifty', 'High_Nifty', 'Low_Nifty' , 'Close_Nifty' ,'TradingPosition' , 'ExpirationTime']]\n",
    "data2 = df[['Close_Option' , 'Action']]"
   ]
  },
  {
   "cell_type": "code",
   "execution_count": 10,
   "metadata": {},
   "outputs": [],
   "source": [
    "from sklearn.preprocessing import RobustScaler as RS\n",
    "data3 = data1[['TradingPosition']]\n",
    "scaler = RS()\n",
    "data1 = scaler.fit_transform(data1[['Open_Nifty', 'High_Nifty', 'Low_Nifty' , 'Close_Nifty' ,'ExpirationTime']])\n",
    "\n",
    "scaler1 = RS()\n",
    "data4 = scaler1.fit_transform(data2['Close_Option'].values.reshape(-1, 1))"
   ]
  },
  {
   "cell_type": "code",
   "execution_count": 11,
   "metadata": {},
   "outputs": [],
   "source": [
    "data1 = pd.DataFrame(data1)"
   ]
  },
  {
   "cell_type": "code",
   "execution_count": 12,
   "metadata": {},
   "outputs": [],
   "source": [
    "data1.columns = ['Open_Nifty', 'High_Nifty', 'Low_Nifty' , 'Close_Nifty' ,'ExpirationTime']"
   ]
  },
  {
   "cell_type": "code",
   "execution_count": 13,
   "metadata": {},
   "outputs": [],
   "source": [
    "data1['TradingPosition'] = data3['TradingPosition']"
   ]
  },
  {
   "cell_type": "code",
   "execution_count": 14,
   "metadata": {},
   "outputs": [],
   "source": [
    "data4 = pd.DataFrame(data4)"
   ]
  },
  {
   "cell_type": "code",
   "execution_count": 15,
   "metadata": {},
   "outputs": [],
   "source": [
    "data4.columns = ['Close_Option']\n",
    "data4['Action'] = data2['Action']"
   ]
  },
  {
   "cell_type": "code",
   "execution_count": 16,
   "metadata": {},
   "outputs": [],
   "source": [
    "timesteps1 = 50\n",
    "timesteps2 = 5\n",
    "dataX = []\n",
    "dataY = []\n",
    "for i in range(len(df.values) - timesteps1 + 1 ):\n",
    "    x = data1.values[i:(i+timesteps1) , :]\n",
    "    dataX.append(x)\n",
    "for i in range(len(df.values) - timesteps2 + 1):\n",
    "    y = data4.values[i:(i+timesteps2) , :]\n",
    "    dataY.append(y)\n",
    "X = np.array(dataX)\n",
    "Y = np.array(dataY)"
   ]
  },
  {
   "cell_type": "code",
   "execution_count": 17,
   "metadata": {},
   "outputs": [],
   "source": [
    "X = np.reshape(X , (X.shape[0] , X.shape[1]*X.shape[2]))\n",
    "Y = np.reshape(Y , (Y.shape[0] , Y.shape[1]*Y.shape[2]))"
   ]
  },
  {
   "cell_type": "code",
   "execution_count": 18,
   "metadata": {},
   "outputs": [],
   "source": [
    "X = X[:-timesteps2]"
   ]
  },
  {
   "cell_type": "code",
   "execution_count": 19,
   "metadata": {},
   "outputs": [],
   "source": [
    "Y = Y[timesteps1:]"
   ]
  },
  {
   "cell_type": "code",
   "execution_count": 20,
   "metadata": {},
   "outputs": [],
   "source": [
    "del(dataX)\n",
    "del(dataY)\n",
    "del(data1)\n",
    "del(data2)\n",
    "del(data3)\n",
    "del(data4)\n",
    "del(df)"
   ]
  },
  {
   "cell_type": "markdown",
   "metadata": {
    "colab_type": "text",
    "id": "QqbInlZiYFZs"
   },
   "source": [
    "https://machinelearningmastery.com/time-series-prediction-lstm-recurrent-neural-networks-python-keras/\n"
   ]
  },
  {
   "cell_type": "code",
   "execution_count": 21,
   "metadata": {},
   "outputs": [],
   "source": [
    "Y = pd.DataFrame(Y)\n",
    "X = pd.DataFrame(X)"
   ]
  },
  {
   "cell_type": "code",
   "execution_count": 22,
   "metadata": {},
   "outputs": [
    {
     "data": {
      "text/html": [
       "<div>\n",
       "<style>\n",
       "    .dataframe thead tr:only-child th {\n",
       "        text-align: right;\n",
       "    }\n",
       "\n",
       "    .dataframe thead th {\n",
       "        text-align: left;\n",
       "    }\n",
       "\n",
       "    .dataframe tbody tr th {\n",
       "        vertical-align: top;\n",
       "    }\n",
       "</style>\n",
       "<table border=\"1\" class=\"dataframe\">\n",
       "  <thead>\n",
       "    <tr style=\"text-align: right;\">\n",
       "      <th></th>\n",
       "      <th>0</th>\n",
       "      <th>1</th>\n",
       "      <th>2</th>\n",
       "      <th>3</th>\n",
       "      <th>4</th>\n",
       "      <th>5</th>\n",
       "      <th>6</th>\n",
       "      <th>7</th>\n",
       "      <th>8</th>\n",
       "      <th>9</th>\n",
       "      <th>...</th>\n",
       "      <th>290</th>\n",
       "      <th>291</th>\n",
       "      <th>292</th>\n",
       "      <th>293</th>\n",
       "      <th>294</th>\n",
       "      <th>295</th>\n",
       "      <th>296</th>\n",
       "      <th>297</th>\n",
       "      <th>298</th>\n",
       "      <th>299</th>\n",
       "    </tr>\n",
       "  </thead>\n",
       "  <tbody>\n",
       "    <tr>\n",
       "      <th>0</th>\n",
       "      <td>0.412047</td>\n",
       "      <td>0.45888</td>\n",
       "      <td>0.415227</td>\n",
       "      <td>0.458707</td>\n",
       "      <td>1.281435</td>\n",
       "      <td>1.0</td>\n",
       "      <td>0.459789</td>\n",
       "      <td>0.46560</td>\n",
       "      <td>0.452975</td>\n",
       "      <td>0.467670</td>\n",
       "      <td>...</td>\n",
       "      <td>0.619002</td>\n",
       "      <td>0.616517</td>\n",
       "      <td>1.272848</td>\n",
       "      <td>1.0</td>\n",
       "      <td>0.616469</td>\n",
       "      <td>0.61952</td>\n",
       "      <td>0.617402</td>\n",
       "      <td>0.622279</td>\n",
       "      <td>1.272808</td>\n",
       "      <td>1.0</td>\n",
       "    </tr>\n",
       "    <tr>\n",
       "      <th>1</th>\n",
       "      <td>0.459789</td>\n",
       "      <td>0.46560</td>\n",
       "      <td>0.452975</td>\n",
       "      <td>0.467670</td>\n",
       "      <td>1.281395</td>\n",
       "      <td>0.0</td>\n",
       "      <td>0.471323</td>\n",
       "      <td>0.50560</td>\n",
       "      <td>0.474408</td>\n",
       "      <td>0.506722</td>\n",
       "      <td>...</td>\n",
       "      <td>0.617402</td>\n",
       "      <td>0.622279</td>\n",
       "      <td>1.272808</td>\n",
       "      <td>1.0</td>\n",
       "      <td>0.622557</td>\n",
       "      <td>0.62144</td>\n",
       "      <td>0.619002</td>\n",
       "      <td>0.618118</td>\n",
       "      <td>1.272768</td>\n",
       "      <td>1.0</td>\n",
       "    </tr>\n",
       "    <tr>\n",
       "      <th>2</th>\n",
       "      <td>0.471323</td>\n",
       "      <td>0.50560</td>\n",
       "      <td>0.474408</td>\n",
       "      <td>0.506722</td>\n",
       "      <td>1.281355</td>\n",
       "      <td>0.0</td>\n",
       "      <td>0.508170</td>\n",
       "      <td>0.52096</td>\n",
       "      <td>0.511196</td>\n",
       "      <td>0.515685</td>\n",
       "      <td>...</td>\n",
       "      <td>0.619002</td>\n",
       "      <td>0.618118</td>\n",
       "      <td>1.272768</td>\n",
       "      <td>1.0</td>\n",
       "      <td>0.614547</td>\n",
       "      <td>0.61888</td>\n",
       "      <td>0.614203</td>\n",
       "      <td>0.619718</td>\n",
       "      <td>1.272606</td>\n",
       "      <td>1.0</td>\n",
       "    </tr>\n",
       "    <tr>\n",
       "      <th>3</th>\n",
       "      <td>0.508170</td>\n",
       "      <td>0.52096</td>\n",
       "      <td>0.511196</td>\n",
       "      <td>0.515685</td>\n",
       "      <td>1.281314</td>\n",
       "      <td>1.0</td>\n",
       "      <td>0.505607</td>\n",
       "      <td>0.51744</td>\n",
       "      <td>0.507038</td>\n",
       "      <td>0.515365</td>\n",
       "      <td>...</td>\n",
       "      <td>0.614203</td>\n",
       "      <td>0.619718</td>\n",
       "      <td>1.272606</td>\n",
       "      <td>1.0</td>\n",
       "      <td>0.624479</td>\n",
       "      <td>0.64384</td>\n",
       "      <td>0.618362</td>\n",
       "      <td>0.634763</td>\n",
       "      <td>1.271921</td>\n",
       "      <td>1.0</td>\n",
       "    </tr>\n",
       "  </tbody>\n",
       "</table>\n",
       "<p>4 rows × 300 columns</p>\n",
       "</div>"
      ],
      "text/plain": [
       "        0        1         2         3         4    5         6        7    \\\n",
       "0  0.412047  0.45888  0.415227  0.458707  1.281435  1.0  0.459789  0.46560   \n",
       "1  0.459789  0.46560  0.452975  0.467670  1.281395  0.0  0.471323  0.50560   \n",
       "2  0.471323  0.50560  0.474408  0.506722  1.281355  0.0  0.508170  0.52096   \n",
       "3  0.508170  0.52096  0.511196  0.515685  1.281314  1.0  0.505607  0.51744   \n",
       "\n",
       "        8         9   ...        290       291       292  293       294  \\\n",
       "0  0.452975  0.467670 ...   0.619002  0.616517  1.272848  1.0  0.616469   \n",
       "1  0.474408  0.506722 ...   0.617402  0.622279  1.272808  1.0  0.622557   \n",
       "2  0.511196  0.515685 ...   0.619002  0.618118  1.272768  1.0  0.614547   \n",
       "3  0.507038  0.515365 ...   0.614203  0.619718  1.272606  1.0  0.624479   \n",
       "\n",
       "       295       296       297       298  299  \n",
       "0  0.61952  0.617402  0.622279  1.272808  1.0  \n",
       "1  0.62144  0.619002  0.618118  1.272768  1.0  \n",
       "2  0.61888  0.614203  0.619718  1.272606  1.0  \n",
       "3  0.64384  0.618362  0.634763  1.271921  1.0  \n",
       "\n",
       "[4 rows x 300 columns]"
      ]
     },
     "execution_count": 22,
     "metadata": {},
     "output_type": "execute_result"
    }
   ],
   "source": [
    "X.head(4)"
   ]
  },
  {
   "cell_type": "code",
   "execution_count": 23,
   "metadata": {},
   "outputs": [
    {
     "data": {
      "text/html": [
       "<div>\n",
       "<style>\n",
       "    .dataframe thead tr:only-child th {\n",
       "        text-align: right;\n",
       "    }\n",
       "\n",
       "    .dataframe thead th {\n",
       "        text-align: left;\n",
       "    }\n",
       "\n",
       "    .dataframe tbody tr th {\n",
       "        vertical-align: top;\n",
       "    }\n",
       "</style>\n",
       "<table border=\"1\" class=\"dataframe\">\n",
       "  <thead>\n",
       "    <tr style=\"text-align: right;\">\n",
       "      <th></th>\n",
       "      <th>0</th>\n",
       "      <th>1</th>\n",
       "      <th>2</th>\n",
       "      <th>3</th>\n",
       "      <th>4</th>\n",
       "      <th>5</th>\n",
       "      <th>6</th>\n",
       "      <th>7</th>\n",
       "      <th>8</th>\n",
       "      <th>9</th>\n",
       "    </tr>\n",
       "  </thead>\n",
       "  <tbody>\n",
       "    <tr>\n",
       "      <th>0</th>\n",
       "      <td>1.011887</td>\n",
       "      <td>2.0</td>\n",
       "      <td>1.024532</td>\n",
       "      <td>2.0</td>\n",
       "      <td>1.030096</td>\n",
       "      <td>2.0</td>\n",
       "      <td>1.009358</td>\n",
       "      <td>2.0</td>\n",
       "      <td>1.006323</td>\n",
       "      <td>2.0</td>\n",
       "    </tr>\n",
       "    <tr>\n",
       "      <th>1</th>\n",
       "      <td>1.024532</td>\n",
       "      <td>2.0</td>\n",
       "      <td>1.030096</td>\n",
       "      <td>2.0</td>\n",
       "      <td>1.009358</td>\n",
       "      <td>2.0</td>\n",
       "      <td>1.006323</td>\n",
       "      <td>2.0</td>\n",
       "      <td>1.009358</td>\n",
       "      <td>2.0</td>\n",
       "    </tr>\n",
       "    <tr>\n",
       "      <th>2</th>\n",
       "      <td>1.030096</td>\n",
       "      <td>2.0</td>\n",
       "      <td>1.009358</td>\n",
       "      <td>2.0</td>\n",
       "      <td>1.006323</td>\n",
       "      <td>2.0</td>\n",
       "      <td>1.009358</td>\n",
       "      <td>2.0</td>\n",
       "      <td>1.006323</td>\n",
       "      <td>2.0</td>\n",
       "    </tr>\n",
       "    <tr>\n",
       "      <th>3</th>\n",
       "      <td>1.009358</td>\n",
       "      <td>2.0</td>\n",
       "      <td>1.006323</td>\n",
       "      <td>2.0</td>\n",
       "      <td>1.009358</td>\n",
       "      <td>2.0</td>\n",
       "      <td>1.006323</td>\n",
       "      <td>2.0</td>\n",
       "      <td>1.010116</td>\n",
       "      <td>2.0</td>\n",
       "    </tr>\n",
       "    <tr>\n",
       "      <th>4</th>\n",
       "      <td>1.006323</td>\n",
       "      <td>2.0</td>\n",
       "      <td>1.009358</td>\n",
       "      <td>2.0</td>\n",
       "      <td>1.006323</td>\n",
       "      <td>2.0</td>\n",
       "      <td>1.010116</td>\n",
       "      <td>2.0</td>\n",
       "      <td>1.049823</td>\n",
       "      <td>2.0</td>\n",
       "    </tr>\n",
       "  </tbody>\n",
       "</table>\n",
       "</div>"
      ],
      "text/plain": [
       "          0    1         2    3         4    5         6    7         8    9\n",
       "0  1.011887  2.0  1.024532  2.0  1.030096  2.0  1.009358  2.0  1.006323  2.0\n",
       "1  1.024532  2.0  1.030096  2.0  1.009358  2.0  1.006323  2.0  1.009358  2.0\n",
       "2  1.030096  2.0  1.009358  2.0  1.006323  2.0  1.009358  2.0  1.006323  2.0\n",
       "3  1.009358  2.0  1.006323  2.0  1.009358  2.0  1.006323  2.0  1.010116  2.0\n",
       "4  1.006323  2.0  1.009358  2.0  1.006323  2.0  1.010116  2.0  1.049823  2.0"
      ]
     },
     "execution_count": 23,
     "metadata": {},
     "output_type": "execute_result"
    }
   ],
   "source": [
    "Y.head(5)"
   ]
  },
  {
   "cell_type": "code",
   "execution_count": 24,
   "metadata": {
    "colab": {
     "autoexec": {
      "startup": false,
      "wait_interval": 0
     }
    },
    "colab_type": "code",
    "id": "v0JpQOhQ6go1"
   },
   "outputs": [],
   "source": [
    "#Train Test Split - 20% data \n",
    "from sklearn.model_selection import train_test_split\n",
    "X_train, X_test, y_train, y_test = train_test_split(X, Y, test_size=0.15, random_state=42)"
   ]
  },
  {
   "cell_type": "code",
   "execution_count": 25,
   "metadata": {
    "colab": {
     "autoexec": {
      "startup": false,
      "wait_interval": 0
     }
    },
    "colab_type": "code",
    "id": "WgpSGR3L7ImP"
   },
   "outputs": [],
   "source": [
    "del(X)\n",
    "del(Y)"
   ]
  },
  {
   "cell_type": "code",
   "execution_count": 26,
   "metadata": {
    "colab": {
     "autoexec": {
      "startup": false,
      "wait_interval": 0
     },
     "base_uri": "https://localhost:8080/",
     "height": 34
    },
    "colab_type": "code",
    "executionInfo": {
     "elapsed": 1027,
     "status": "ok",
     "timestamp": 1526558937117,
     "user": {
      "displayName": "VISHAKHA BANSAL",
      "photoUrl": "https://lh3.googleusercontent.com/a/default-user=s128",
      "userId": "104018764310527806635"
     },
     "user_tz": -330
    },
    "id": "Cg-PRJEt7NLY",
    "outputId": "3c82e4a5-9928-4c48-efb6-12b09defda9f"
   },
   "outputs": [
    {
     "data": {
      "text/plain": [
       "(6377, 300)"
      ]
     },
     "execution_count": 26,
     "metadata": {},
     "output_type": "execute_result"
    }
   ],
   "source": [
    "X_train.shape "
   ]
  },
  {
   "cell_type": "markdown",
   "metadata": {
    "colab_type": "text",
    "id": "bC7X-LX9Irnc"
   },
   "source": [
    "Reshaping the input to the LSTM "
   ]
  },
  {
   "cell_type": "code",
   "execution_count": 27,
   "metadata": {
    "colab": {
     "autoexec": {
      "startup": false,
      "wait_interval": 0
     }
    },
    "colab_type": "code",
    "id": "gaFLbxOk9mVo"
   },
   "outputs": [],
   "source": [
    "X_train1 = np.reshape(X_train.values , (X_train.shape[0] , timesteps1 , 6))"
   ]
  },
  {
   "cell_type": "code",
   "execution_count": 28,
   "metadata": {
    "colab": {
     "autoexec": {
      "startup": false,
      "wait_interval": 0
     }
    },
    "colab_type": "code",
    "id": "Tbwe1sv1IHG-"
   },
   "outputs": [],
   "source": [
    "del(X_train)"
   ]
  },
  {
   "cell_type": "code",
   "execution_count": 29,
   "metadata": {
    "colab": {
     "autoexec": {
      "startup": false,
      "wait_interval": 0
     }
    },
    "colab_type": "code",
    "id": "bzZPP52fIgVi"
   },
   "outputs": [],
   "source": [
    "X_test1 = np.reshape(X_test.values , (X_test.shape[0] , timesteps1 , 6))\n",
    "del(X_test)"
   ]
  },
  {
   "cell_type": "markdown",
   "metadata": {
    "colab_type": "text",
    "id": "0BpN3WCzZ8qs"
   },
   "source": [
    "https://stackoverflow.com/questions/38714959/understanding-keras-lstms\n",
    "Basic Idea to implement the LSTM-RL - Have to modify "
   ]
  },
  {
   "cell_type": "code",
   "execution_count": 30,
   "metadata": {
    "colab": {
     "autoexec": {
      "startup": false,
      "wait_interval": 0
     }
    },
    "colab_type": "code",
    "id": "WEgni0eXn6Ti"
   },
   "outputs": [],
   "source": [
    "#LSTM Network \n",
    "from keras.layers import Input , RepeatVector ,TimeDistributed , Bidirectional , Activation , Flatten , concatenate , Dropout\n",
    "from keras.models import Sequential, Model\n",
    "\n",
    "m_next = timesteps2\n",
    "prev = timesteps1 \n"
   ]
  },
  {
   "cell_type": "code",
   "execution_count": 31,
   "metadata": {},
   "outputs": [],
   "source": [
    "from sklearn.model_selection import GridSearchCV\n",
    "epoch = 10\n",
    "batch_size = 15\n",
    "latent_dim_1 = 40\n",
    "latent_dim_2 = 40\n"
   ]
  },
  {
   "cell_type": "code",
   "execution_count": 32,
   "metadata": {},
   "outputs": [],
   "source": [
    "from keras.losses import mean_squared_error,categorical_crossentropy\n",
    "from keras import backend as K\n",
    "from keras.metrics import categorical_accuracy\n",
    "\n",
    "def weighted_categorical_crossentropy(weights , y_true, y_pred):\n",
    "    weights = K.variable(value=weights)\n",
    "    # calc\n",
    "    loss = y_true * K.log(y_pred) * weights\n",
    "    loss = -K.sum(loss, axis=-1)\n",
    "    return loss\n",
    "    "
   ]
  },
  {
   "cell_type": "code",
   "execution_count": 33,
   "metadata": {},
   "outputs": [],
   "source": [
    "def wLoss(yTrue,yPred):\n",
    "    weights = np.array([30.0, 1.0 ,1.0,30.0])\n",
    "    #Value Function\n",
    "    vfTrue = yTrue[:,:,0]\n",
    "    vfPred = yPred[:,:,0]\n",
    "    acTrue = yTrue[:,:,1:]\n",
    "    acPred = yPred[:,:,1:]\n",
    "    indexTrue = K.cast(K.argmax(acTrue , axis=-1) , 'float32')\n",
    "    indexPred = K.cast(K.argmax(acPred , axis=-1) , 'float32')\n",
    "    \n",
    "    indexTrue=np.where(indexTrue==0,-5.00,indexTrue)\n",
    "    indexTrue=np.where(indexTrue==1,-4.00,indexTrue)\n",
    "    indexTrue=np.where(indexTrue==2, -3.00 ,indexTrue)\n",
    "    indexTrue=np.where(indexTrue==3,-2.00,indexTrue)\n",
    "    indexTrue=indexTrue+4\n",
    "    \n",
    "    indexPred=np.where(indexPred==0,-5.00,indexPred)\n",
    "    indexPred=np.where(indexPred==1,-4.00,indexPred)\n",
    "    indexPred=np.where(indexPred==2,-3.00,indexPred)\n",
    "    indexPred=np.where(indexPred==3,-2.00,indexPred)\n",
    "    indexPred=indexPred+4\n",
    "    \n",
    "    loss1=K.mean(K.square(indexTrue*vfTrue - indexPred*vfPred), axis=-1)\n",
    "    #loss1 = (K.dot(indexTrue , K.transpose(vfTrue)) - K.dot(indexPred , K.transpose(vfPred)))**2\n",
    "    loss2 = K.mean(weighted_categorical_crossentropy(weights , acTrue ,acPred) , axis=-1)\n",
    "    loss3 = K.mean(K.square(vfTrue - vfPred), axis=-1)\n",
    "    \n",
    "    #return loss1+loss2+loss3 \n",
    "    return (loss1+loss2 + loss3)/3"
   ]
  },
  {
   "cell_type": "code",
   "execution_count": 34,
   "metadata": {},
   "outputs": [
    {
     "name": "stdout",
     "output_type": "stream",
     "text": [
      "[[ 0.  0.  0.  0.  0.]\n",
      " [ 0.  0.  0.  0.  0.]\n",
      " [ 0.  0.  0.  0.  0.]]\n",
      "10.0\n",
      "0.8333333333333334\n"
     ]
    }
   ],
   "source": [
    "a = K.variable([[0, 1,2,3 ,0] ,[0,0,0,1,2] , [0,1,2 , 1,2]])\n",
    "zeros = K.zeros_like(a)\n",
    "b = K.variable([[0,1,2,1 ,1] ,[0,2,2,1,2] , [0,2,2 , 2,2]])\n",
    "print(K.eval(zeros))\n",
    "print(K.eval(K.sum(K.switch(K.equal(a , b) , a , zeros))))\n",
    "print(10/12)"
   ]
  },
  {
   "cell_type": "code",
   "execution_count": 35,
   "metadata": {},
   "outputs": [
    {
     "data": {
      "text/plain": [
       "array([[ True,  True,  True, False, False],\n",
       "       [ True, False, False,  True,  True],\n",
       "       [ True, False,  True, False,  True]], dtype=bool)"
      ]
     },
     "execution_count": 35,
     "metadata": {},
     "output_type": "execute_result"
    }
   ],
   "source": [
    "K.eval(K.equal(a,b))"
   ]
  },
  {
   "cell_type": "code",
   "execution_count": 36,
   "metadata": {},
   "outputs": [
    {
     "data": {
      "text/plain": [
       "0.60000002"
      ]
     },
     "execution_count": 36,
     "metadata": {},
     "output_type": "execute_result"
    }
   ],
   "source": [
    "K.eval(K.mean(K.equal(a,b)))"
   ]
  },
  {
   "cell_type": "code",
   "execution_count": 37,
   "metadata": {},
   "outputs": [],
   "source": [
    "def valueFuncAccuracy(yTrue,yPred):\n",
    "    vfTrue = yTrue[:,:,0]\n",
    "    vfPred = yPred[:,:,0]\n",
    "    SS_res =  K.sum(K.square(vfTrue - vfPred))\n",
    "    SS_tot = K.sum(K.square( vfTrue - K.mean(vfTrue) ) )\n",
    "    return ( 1 - SS_res/(SS_tot + K.epsilon()) )\n",
    "\n",
    "def actionsAccuracy(yTrue , yPred):\n",
    "    acTrue = yTrue[:,:,1:]\n",
    "    acPred = yPred[:,:,1:]\n",
    "    return categorical_accuracy(acTrue, acPred)\n",
    "\n",
    "def actionsWeightedAccuracy(yTrue , yPred):\n",
    "    weights = np.array([30.0, 1.0 ,1.0,30.0])\n",
    "    weights = weights / np.sqrt(np.sum(weights**2))\n",
    "    acTrue = yTrue[:,:,1:]\n",
    "    acPred = yPred[:,:,1:]\n",
    "    indexTrue = K.cast(K.argmax(acTrue , axis=-1) , 'float32') \n",
    "    indexPred = K.cast(K.argmax(acPred , axis=-1) , 'float32') \n",
    "    \n",
    "    zeroTrue = K.zeros_like(indexTrue)\n",
    "    onesTrue = K.ones_like(indexTrue)\n",
    "    indexTrue=np.where(indexTrue==0,weights[0],indexTrue)\n",
    "    indexTrue=np.where(indexTrue==1,weights[1],indexTrue)\n",
    "    indexTrue=np.where(indexTrue==2,weights[2],indexTrue)\n",
    "    indexTrue=np.where(indexTrue==3,weights[3],indexTrue)\n",
    "    indexTrue=indexTrue+0\n",
    "    \n",
    "    indexPred=np.where(indexPred==0,weights[0],indexPred)\n",
    "    indexPred=np.where(indexPred==1,weights[1],indexPred)\n",
    "    indexPred=np.where(indexPred==2,weights[2],indexPred)\n",
    "    indexPred=np.where(indexPred==3,weights[3],indexPred)\n",
    "    indexPred=indexPred+0\n",
    "    \n",
    "    \n",
    "    return K.sum(K.switch(K.equal(indexTrue , indexPred) , indexTrue , zeroTrue))/K.sum(indexTrue) "
   ]
  },
  {
   "cell_type": "code",
   "execution_count": 38,
   "metadata": {},
   "outputs": [],
   "source": [
    "input_layer = Input(shape=(prev , X_train1.shape[2]))\n",
    "encoder = LSTM(latent_dim_1)(input_layer)\n",
    "encoder = Dropout(0.2)(encoder)\n",
    "encoder = RepeatVector(timesteps2)(encoder)\n",
    "decoder = LSTM(latent_dim_2,return_sequences=True)(encoder)\n",
    "decoder = Dropout(0.2)(decoder)\n",
    "valueFunc = TimeDistributed(Dense(1, activation='linear'))(decoder)\n",
    "actions = TimeDistributed(Dense(4, activation='softmax'))(decoder)\n",
    "merge = concatenate([valueFunc, actions])\n",
    "model = Model(inputs=input_layer, outputs=merge)\n",
    "model.compile(loss=wLoss , optimizer='adam', metrics=[valueFuncAccuracy , actionsAccuracy , actionsWeightedAccuracy])"
   ]
  },
  {
   "cell_type": "code",
   "execution_count": 39,
   "metadata": {
    "colab": {
     "autoexec": {
      "startup": false,
      "wait_interval": 0
     },
     "base_uri": "https://localhost:8080/",
     "height": 346
    },
    "colab_type": "code",
    "executionInfo": {
     "elapsed": 1123,
     "status": "ok",
     "timestamp": 1526559505023,
     "user": {
      "displayName": "VISHAKHA BANSAL",
      "photoUrl": "https://lh3.googleusercontent.com/a/default-user=s128",
      "userId": "104018764310527806635"
     },
     "user_tz": -330
    },
    "id": "bKbg4T0B-79e",
    "outputId": "073d02e3-8fe1-4b4a-95e7-7eb6d99379cd",
    "scrolled": true
   },
   "outputs": [
    {
     "name": "stdout",
     "output_type": "stream",
     "text": [
      "__________________________________________________________________________________________________\n",
      "Layer (type)                    Output Shape         Param #     Connected to                     \n",
      "==================================================================================================\n",
      "input_1 (InputLayer)            (None, 50, 6)        0                                            \n",
      "__________________________________________________________________________________________________\n",
      "lstm_1 (LSTM)                   (None, 40)           7520        input_1[0][0]                    \n",
      "__________________________________________________________________________________________________\n",
      "dropout_1 (Dropout)             (None, 40)           0           lstm_1[0][0]                     \n",
      "__________________________________________________________________________________________________\n",
      "repeat_vector_1 (RepeatVector)  (None, 5, 40)        0           dropout_1[0][0]                  \n",
      "__________________________________________________________________________________________________\n",
      "lstm_2 (LSTM)                   (None, 5, 40)        12960       repeat_vector_1[0][0]            \n",
      "__________________________________________________________________________________________________\n",
      "dropout_2 (Dropout)             (None, 5, 40)        0           lstm_2[0][0]                     \n",
      "__________________________________________________________________________________________________\n",
      "time_distributed_1 (TimeDistrib (None, 5, 1)         41          dropout_2[0][0]                  \n",
      "__________________________________________________________________________________________________\n",
      "time_distributed_2 (TimeDistrib (None, 5, 4)         164         dropout_2[0][0]                  \n",
      "__________________________________________________________________________________________________\n",
      "concatenate_1 (Concatenate)     (None, 5, 5)         0           time_distributed_1[0][0]         \n",
      "                                                                 time_distributed_2[0][0]         \n",
      "==================================================================================================\n",
      "Total params: 20,685\n",
      "Trainable params: 20,685\n",
      "Non-trainable params: 0\n",
      "__________________________________________________________________________________________________\n"
     ]
    }
   ],
   "source": [
    "model.summary()"
   ]
  },
  {
   "cell_type": "code",
   "execution_count": 40,
   "metadata": {},
   "outputs": [],
   "source": [
    "y_train1 = y_train.loc[: , np.arange(0 , 2*timesteps2-1,2 )] #Value Function"
   ]
  },
  {
   "cell_type": "code",
   "execution_count": 41,
   "metadata": {},
   "outputs": [],
   "source": [
    "y_train2 = y_train.loc[: , np.arange(1,2*timesteps2,2)] #Actions "
   ]
  },
  {
   "cell_type": "code",
   "execution_count": 42,
   "metadata": {},
   "outputs": [],
   "source": [
    "from keras.utils import to_categorical\n",
    "one_hot_labels = to_categorical(y_train2, num_classes=4)\n",
    "#Buy: 0 ,Not hold : 1 , Hold: 2 , Sell: 3 \n",
    "#[0,0,1,0] => Hold , [0,1,0,0] => Not Hold , \n",
    "#[0,0,0,1] => Sell , [1,0,0,0] => Buy"
   ]
  },
  {
   "cell_type": "code",
   "execution_count": 43,
   "metadata": {},
   "outputs": [
    {
     "data": {
      "text/plain": [
       "(6377, 5, 4)"
      ]
     },
     "execution_count": 43,
     "metadata": {},
     "output_type": "execute_result"
    }
   ],
   "source": [
    "one_hot_labels.shape"
   ]
  },
  {
   "cell_type": "code",
   "execution_count": 44,
   "metadata": {},
   "outputs": [],
   "source": [
    "y_train1 = np.reshape(y_train1.values , (y_train1.shape[0] , y_train1.shape[1] , 1))"
   ]
  },
  {
   "cell_type": "code",
   "execution_count": 45,
   "metadata": {},
   "outputs": [
    {
     "data": {
      "text/plain": [
       "(6377, 5, 1)"
      ]
     },
     "execution_count": 45,
     "metadata": {},
     "output_type": "execute_result"
    }
   ],
   "source": [
    "y_train1.shape"
   ]
  },
  {
   "cell_type": "code",
   "execution_count": 46,
   "metadata": {},
   "outputs": [],
   "source": [
    "y_train3 = np.concatenate((y_train1, one_hot_labels), axis=2)"
   ]
  },
  {
   "cell_type": "code",
   "execution_count": 47,
   "metadata": {},
   "outputs": [],
   "source": [
    "from numpy.random import seed\n",
    "seed(1)"
   ]
  },
  {
   "cell_type": "code",
   "execution_count": 48,
   "metadata": {
    "colab": {
     "autoexec": {
      "startup": false,
      "wait_interval": 0
     },
     "base_uri": "https://localhost:8080/",
     "height": 1020
    },
    "colab_type": "code",
    "executionInfo": {
     "elapsed": 1337,
     "status": "error",
     "timestamp": 1526559527683,
     "user": {
      "displayName": "VISHAKHA BANSAL",
      "photoUrl": "https://lh3.googleusercontent.com/a/default-user=s128",
      "userId": "104018764310527806635"
     },
     "user_tz": -330
    },
    "id": "yxbujC_A0wrX",
    "outputId": "3a698903-0685-4a84-909e-1698efbb99dd",
    "scrolled": false
   },
   "outputs": [
    {
     "name": "stdout",
     "output_type": "stream",
     "text": [
      "Train on 6058 samples, validate on 319 samples\n",
      "Epoch 1/10\n",
      "6058/6058 [==============================] - 20s 3ms/step - loss: 1.2267 - valueFuncAccuracy: 0.9012 - actionsAccuracy: 0.5189 - actionsWeightedAccuracy: 0.5583 - val_loss: 0.9424 - val_valueFuncAccuracy: 0.9834 - val_actionsAccuracy: 0.7699 - val_actionsWeightedAccuracy: 0.8081\n",
      "Epoch 2/10\n",
      "6058/6058 [==============================] - 19s 3ms/step - loss: 0.8281 - valueFuncAccuracy: 0.9501 - actionsAccuracy: 0.6798 - actionsWeightedAccuracy: 0.6941 - val_loss: 0.8646 - val_valueFuncAccuracy: 0.9841 - val_actionsAccuracy: 0.7994 - val_actionsWeightedAccuracy: 0.8293\n",
      "Epoch 3/10\n",
      "6058/6058 [==============================] - 15s 3ms/step - loss: 0.7517 - valueFuncAccuracy: 0.9542 - actionsAccuracy: 0.6803 - actionsWeightedAccuracy: 0.6938 - val_loss: 0.8443 - val_valueFuncAccuracy: 0.9828 - val_actionsAccuracy: 0.7398 - val_actionsWeightedAccuracy: 0.7885\n",
      "Epoch 4/10\n",
      "6058/6058 [==============================] - 15s 3ms/step - loss: 0.7170 - valueFuncAccuracy: 0.9560 - actionsAccuracy: 0.6811 - actionsWeightedAccuracy: 0.7120 - val_loss: 0.8059 - val_valueFuncAccuracy: 0.9741 - val_actionsAccuracy: 0.7335 - val_actionsWeightedAccuracy: 0.7825\n",
      "Epoch 5/10\n",
      "6058/6058 [==============================] - 15s 3ms/step - loss: 0.6945 - valueFuncAccuracy: 0.9565 - actionsAccuracy: 0.6754 - actionsWeightedAccuracy: 0.7004 - val_loss: 0.7982 - val_valueFuncAccuracy: 0.9807 - val_actionsAccuracy: 0.7304 - val_actionsWeightedAccuracy: 0.7527\n",
      "Epoch 6/10\n",
      "6058/6058 [==============================] - 15s 3ms/step - loss: 0.6789 - valueFuncAccuracy: 0.9557 - actionsAccuracy: 0.6776 - actionsWeightedAccuracy: 0.6969 - val_loss: 0.7803 - val_valueFuncAccuracy: 0.9818 - val_actionsAccuracy: 0.7649 - val_actionsWeightedAccuracy: 0.8045\n",
      "Epoch 7/10\n",
      "6058/6058 [==============================] - 15s 3ms/step - loss: 0.6676 - valueFuncAccuracy: 0.9570 - actionsAccuracy: 0.6771 - actionsWeightedAccuracy: 0.7092 - val_loss: 0.7920 - val_valueFuncAccuracy: 0.9806 - val_actionsAccuracy: 0.7091 - val_actionsWeightedAccuracy: 0.7639\n",
      "Epoch 8/10\n",
      "6058/6058 [==============================] - 15s 3ms/step - loss: 0.6640 - valueFuncAccuracy: 0.9605 - actionsAccuracy: 0.6889 - actionsWeightedAccuracy: 0.7207 - val_loss: 0.7715 - val_valueFuncAccuracy: 0.9749 - val_actionsAccuracy: 0.6188 - val_actionsWeightedAccuracy: 0.6301\n",
      "Epoch 9/10\n",
      "6058/6058 [==============================] - 15s 3ms/step - loss: 0.6573 - valueFuncAccuracy: 0.9572 - actionsAccuracy: 0.6809 - actionsWeightedAccuracy: 0.7142 - val_loss: 0.7738 - val_valueFuncAccuracy: 0.9795 - val_actionsAccuracy: 0.7618 - val_actionsWeightedAccuracy: 0.8015\n",
      "Epoch 10/10\n",
      "6058/6058 [==============================] - 15s 3ms/step - loss: 0.6548 - valueFuncAccuracy: 0.9597 - actionsAccuracy: 0.6801 - actionsWeightedAccuracy: 0.7181 - val_loss: 0.7691 - val_valueFuncAccuracy: 0.9733 - val_actionsAccuracy: 0.7850 - val_actionsWeightedAccuracy: 0.8171\n"
     ]
    },
    {
     "data": {
      "text/plain": [
       "<keras.callbacks.History at 0x14603ced1b70>"
      ]
     },
     "execution_count": 48,
     "metadata": {},
     "output_type": "execute_result"
    }
   ],
   "source": [
    "model.fit(X_train1, y_train3, epochs=epoch , batch_size=batch_size , validation_split = 0.05)"
   ]
  },
  {
   "cell_type": "code",
   "execution_count": 49,
   "metadata": {},
   "outputs": [],
   "source": [
    "#test \n",
    "y_test.shape\n",
    "y_test1 = y_test.loc[: , np.arange(0 , 2*timesteps2-1,2 )] #Value Function\n",
    "y_test2 = y_test.loc[: , np.arange(1, 2*timesteps2,2)] #Actions \n",
    "one_hot_labels1 = to_categorical(y_test2, num_classes=4)\n",
    "y_test1 = np.reshape(y_test1.values , (y_test1.shape[0] , y_test1.shape[1] , 1))\n",
    "y_test3 = np.concatenate((y_test1, one_hot_labels1), axis=2)\n",
    "pred4 = model.predict(X_test1)"
   ]
  },
  {
   "cell_type": "code",
   "execution_count": 50,
   "metadata": {},
   "outputs": [],
   "source": [
    "predValue = pred4[: , : , 0]\n",
    "predAction = pred4[: ,:, 1:]"
   ]
  },
  {
   "cell_type": "code",
   "execution_count": 51,
   "metadata": {},
   "outputs": [
    {
     "data": {
      "text/plain": [
       "(1126, 5, 5)"
      ]
     },
     "execution_count": 51,
     "metadata": {},
     "output_type": "execute_result"
    }
   ],
   "source": [
    "y_test3.shape"
   ]
  },
  {
   "cell_type": "code",
   "execution_count": 52,
   "metadata": {},
   "outputs": [
    {
     "data": {
      "text/plain": [
       "array([ 0.00077847,  0.00162963,  0.00023069, ...,  0.00394268,\n",
       "        0.00014265,  0.00556128])"
      ]
     },
     "execution_count": 52,
     "metadata": {},
     "output_type": "execute_result"
    }
   ],
   "source": [
    "#RMSE \n",
    "K.eval(K.mean(K.square(y_test3[:,:,0] - predValue), axis=-1))"
   ]
  },
  {
   "cell_type": "code",
   "execution_count": 53,
   "metadata": {},
   "outputs": [
    {
     "data": {
      "text/plain": [
       "0.80177617"
      ]
     },
     "execution_count": 53,
     "metadata": {},
     "output_type": "execute_result"
    }
   ],
   "source": [
    "#Categorical Accuracy \n",
    "K.eval(K.mean(K.equal(K.argmax(y_test3[:,:,1:], axis=-1), K.argmax(predAction, axis=-1))))"
   ]
  },
  {
   "cell_type": "code",
   "execution_count": 54,
   "metadata": {},
   "outputs": [
    {
     "name": "stdout",
     "output_type": "stream",
     "text": [
      "0.837629\n"
     ]
    }
   ],
   "source": [
    "#weighted categorical accoracy \n",
    "weights = np.array([30.0, 1.0 ,1.0,30.0])\n",
    "weights = weights / np.sqrt(np.sum(weights**2))\n",
    "acTrue = y_test3[:,:,1:]\n",
    "acPred = predAction\n",
    "indexTrue = K.cast(K.argmax(acTrue , axis=-1) , 'float32') \n",
    "indexPred = K.cast(K.argmax(acPred , axis=-1) , 'float32') \n",
    "\n",
    "zeroTrue = K.zeros_like(indexTrue)\n",
    "onesTrue = K.ones_like(indexTrue)\n",
    "indexTrue=np.where(indexTrue==0,weights[0],indexTrue)\n",
    "indexTrue=np.where(indexTrue==1,weights[1],indexTrue)\n",
    "indexTrue=np.where(indexTrue==2,weights[2],indexTrue)\n",
    "indexTrue=np.where(indexTrue==3,weights[3],indexTrue)\n",
    "indexTrue=indexTrue+0\n",
    "\n",
    "indexPred=np.where(indexPred==0,weights[0],indexPred)\n",
    "indexPred=np.where(indexPred==1,weights[1],indexPred)\n",
    "indexPred=np.where(indexPred==2,weights[2],indexPred)\n",
    "indexPred=np.where(indexPred==3,weights[3],indexPred)\n",
    "indexPred=indexPred+0\n",
    "\n",
    "print(K.eval(K.sum(K.switch(K.equal(indexTrue , indexPred) , indexTrue , zeroTrue))/K.sum(indexTrue)))"
   ]
  },
  {
   "cell_type": "code",
   "execution_count": 55,
   "metadata": {
    "scrolled": true
   },
   "outputs": [
    {
     "data": {
      "text/plain": [
       "0.97496069777433247"
      ]
     },
     "execution_count": 55,
     "metadata": {},
     "output_type": "execute_result"
    }
   ],
   "source": [
    "from sklearn.metrics import r2_score\n",
    "\n",
    "r2_score(y_test3[:,:,0] , pred4[: , : , 0])"
   ]
  },
  {
   "cell_type": "code",
   "execution_count": null,
   "metadata": {},
   "outputs": [],
   "source": []
  }
 ],
 "metadata": {
  "accelerator": "GPU",
  "colab": {
   "collapsed_sections": [],
   "default_view": {},
   "name": "Rnn-RL.ipynb",
   "provenance": [],
   "version": "0.3.2",
   "views": {}
  },
  "kernelspec": {
   "display_name": "Python 3 (Intel, 2018)",
   "language": "python",
   "name": "intel_distribution_of_python_3_2018"
  },
  "language_info": {
   "codemirror_mode": {
    "name": "ipython",
    "version": 3
   },
   "file_extension": ".py",
   "mimetype": "text/x-python",
   "name": "python",
   "nbconvert_exporter": "python",
   "pygments_lexer": "ipython3",
   "version": "3.6.2"
  }
 },
 "nbformat": 4,
 "nbformat_minor": 1
}
